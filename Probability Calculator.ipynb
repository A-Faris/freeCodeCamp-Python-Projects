{
 "cells": [
  {
   "cell_type": "markdown",
   "metadata": {},
   "source": [
    "Probability Calculator\n",
    "\n",
    "Suppose there is a hat containing 5 blue balls, 4 red balls, and 2 green balls. What is the probability that a random draw of 4 balls will contain at least 1 red ball and 2 green balls? While it would be possible to calculate the probability using advanced mathematics, an easier way is to write a program to perform a large number of experiments to estimate an approximate probability.\n",
    "\n",
    "For this project, you will write a program to determine the approximate probability of drawing certain balls randomly from a hat.\n",
    "\n",
    "First, create a *Hat* class in *prob_calculator.py*. The class should take a variable number of arguments that specify the number of balls of each color that are in the hat. For example, a class object could be created in any of these ways:\n",
    "\n",
    "hat1 = Hat(yellow=3, blue=2, green=6)\n",
    "\n",
    "hat2 = Hat(red=5, orange=4)\n",
    "\n",
    "hat3 = Hat(red=5, orange=4, black=1, blue=0, pink=2, striped=9)\n",
    "\n",
    "A hat will always be created with at least one ball. The arguments passed into the hat object upon creation should be converted to a *contents* instance variable. *contents* should be a list of strings containing one item for each ball in the hat. Each item in the list should be a color name representing a single ball of that color. For example, if your hat is *{\"red\": 2, \"blue\": 1}*, *contents* should be *[\"red\", \"red\", \"blue\"]*.\n",
    "\n",
    "The *Hat* class should have a *draw* method that accepts an argument indicating the number of balls to draw from the hat. This method should remove balls at random from *contents* and return those balls as a list of strings. The balls should not go back into the hat during the draw, similar to an urn experiment without replacement. If the number of balls to draw exceeds the available quantity, return all the balls.\n",
    "\n",
    "Next, create an *experiment* function in *prob_calculator.py* (not inside the *Hat* class). This function should accept the following arguments:\n",
    "- *hat*: A hat object containing balls that should be copied inside the function.\n",
    "- *expected_balls*: An object indicating the exact group of balls to attempt to draw from the hat for the experiment. For example, to determine the probability of drawing 2 blue balls and 1 red ball from the hat, set *expected_balls* to *{\"blue\":2, \"red\":1}*.\n",
    "- *num_balls_drawn*: The number of balls to draw out of the hat in each experiment.\n",
    "- *num_experiments*: The number of experiments to perform. (The more experiments performed, the more accurate the approximate probability will be.)\n",
    "\n",
    "The *experiment* function should return a probability.\n",
    "\n",
    "For example, let's say that you want to determine the probability of getting at least 2 red balls and 1 green ball when you draw 5 balls from a hat containing 6 black, 4 red, and 3 green. To do this, we perform *N* experiments, count how many times *M* we get at least 2 red balls and 1 green ball, and estimate the probability as *M/N*. Each experiment consists of starting with a hat containing the specified balls, drawing a number of balls, and checking if we got the balls we were attempting to draw.\n",
    "\n",
    "Here is how you would call the *experiment* function based on the example above with 2000 experiments:\n",
    "\n",
    "hat = Hat(black=6, red=4, green=3)\n",
    "\n",
    "probability = experiment(hat=hat,\n",
    "\n",
    "                  expected_balls={\"red\":2,\"green\":1},\n",
    "\n",
    "                  num_balls_drawn=5,\n",
    "\n",
    "                  num_experiments=2000)\n",
    "\n",
    "Since this is based on random draws, the probability will be slightly different each time the code is run.\n",
    "\n",
    "Hint: Consider using the modules that are already imported at the top of *prob_calculator.py*. Do not initialize random seed within *prob_calculator.py*."
   ]
  },
  {
   "cell_type": "code",
   "execution_count": 8,
   "metadata": {},
   "outputs": [],
   "source": [
    "import copy\n",
    "import random\n",
    "\n",
    "class Hat:\n",
    "    def __init__(self, **balls):\n",
    "        self.contents = list()\n",
    "        for ball,num in balls.items():\n",
    "            for i in range(num):\n",
    "                self.contents.append(ball)\n",
    "\n",
    "    def draw(self, num):\n",
    "        if num < len(self.contents):\n",
    "            self.balls_drawn = list()\n",
    "            for i in range(num):\n",
    "                self.contents.remove(random.choice(self.contents))\n",
    "                self.balls_drawn.append(random.choice(self.contents))\n",
    "            return sorted(self.balls_drawn)\n",
    "        else:\n",
    "            return self.contents\n",
    "\n",
    "def experiment(hat, expected_balls, num_balls_drawn, num_experiments):\n",
    "    M = 0\n",
    "    for i in range(num_experiments):\n",
    "        picked = copy.deepcopy(hat)\n",
    "        picked.draw(num_balls_drawn)\n",
    "        n = copy.copy(expected_balls)\n",
    "        for i in picked.balls_drawn:\n",
    "            if n.get(i) != None and n.get(i) != 0:\n",
    "                n[i] -= 1\n",
    "        if sum(n.values()) == 0:\n",
    "            M += 1\n",
    "    return M/num_experiments"
   ]
  },
  {
   "cell_type": "code",
   "execution_count": 9,
   "metadata": {},
   "outputs": [
    {
     "name": "stdout",
     "output_type": "stream",
     "text": [
      "Probability: 0.289\n"
     ]
    }
   ],
   "source": [
    "hat = Hat(blue=3,red=2,green=6)\n",
    "probability = experiment(\n",
    "    hat=hat,\n",
    "    expected_balls={\"blue\":2,\n",
    "                    \"green\":1},\n",
    "    num_balls_drawn=4,\n",
    "    num_experiments=1000)\n",
    "print(\"Probability:\", probability)"
   ]
  }
 ],
 "metadata": {
  "interpreter": {
   "hash": "f1255793069e5d988e2d53150fad8987b7b0be88154fc93b28637a447625b590"
  },
  "kernelspec": {
   "display_name": "Python 3.10.4 64-bit",
   "language": "python",
   "name": "python3"
  },
  "language_info": {
   "codemirror_mode": {
    "name": "ipython",
    "version": 3
   },
   "file_extension": ".py",
   "mimetype": "text/x-python",
   "name": "python",
   "nbconvert_exporter": "python",
   "pygments_lexer": "ipython3",
   "version": "3.10.4"
  },
  "orig_nbformat": 4
 },
 "nbformat": 4,
 "nbformat_minor": 2
}
