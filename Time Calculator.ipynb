{
 "cells": [
  {
   "cell_type": "markdown",
   "metadata": {},
   "source": [
    "Time Calculator\n",
    "\n",
    "Write a function named *add_time* that takes in two required parameters and one optional parameter:\n",
    "- a start time in the 12-hour clock format (ending in AM or PM)\n",
    "- a duration time that indicates the number of hours and minutes\n",
    "- (optional) a starting day of the week, case insensitive\n",
    "The function should add the duration time to the start time and return the result.\n",
    "\n",
    "If the result will be the next day, it should show *(next day)* after the time. If the result will be more than one day later, it should show *(n days later)* after the time, where \"n\" is the number of days later.\n",
    "\n",
    "If the function is given the optional starting day of the week parameter, then the output should display the day of the week of the result. The day of the week in the output should appear after the time and before the number of days later.\n",
    "\n",
    "Below are some examples of different cases the function should handle. Pay close attention to the spacing and punctuation of the results.\n",
    "\n",
    "add_time(\"3:00 PM\", \"3:10\") # Returns: 6:10 PM\n",
    "\n",
    "add_time(\"11:30 AM\", \"2:32\", \"Monday\") # Returns: 2:02 PM, Monday\n",
    "\n",
    "add_time(\"11:43 AM\", \"00:20\") # Returns: 12:03 PM\n",
    "\n",
    "add_time(\"10:10 PM\", \"3:30\") # Returns: 1:40 AM (next day)\n",
    "\n",
    "add_time(\"11:43 PM\", \"24:20\", \"tueSday\") # Returns: 12:03 AM, Thursday (2 days later)\n",
    "\n",
    "add_time(\"6:30 PM\", \"205:12\") # Returns: 7:42 AM (9 days later)\n",
    "\n",
    "Do not import any Python libraries. Assume that the start times are valid times. The minutes in the duration time will be a whole number less than 60, but the hour can be any whole number."
   ]
  },
  {
   "cell_type": "code",
   "execution_count": 2,
   "metadata": {},
   "outputs": [],
   "source": [
    "def add_time(start, duration, day = \"\"):\n",
    "    d = \"\"\n",
    "    days = [\"monday\",\"tuesday\",\"wednesday\",\"thuresday\",\"friday\",\"saturday\",\"sunday\"]\n",
    "\n",
    "    m = int(str(int(start.partition(\":\")[2].split()[0]) + int(duration.partition(\":\")[2])))\n",
    "    h = int(start.partition(\":\")[0]) + int(duration.partition(\":\")[0])\n",
    "    if m > 59:\n",
    "        m -= 60\n",
    "        h += 1\n",
    "    if len(str(m)) == 1:\n",
    "        m = \"0\" + str(m)\n",
    "\n",
    "    n = int(h/24)\n",
    "    h = h%24\n",
    "    E = start.split()[1]\n",
    "    \n",
    "    if h > 11:\n",
    "        h -= 12\n",
    "        if h == 0:\n",
    "            h = 12\n",
    "        if E == \"PM\":\n",
    "            E = \"AM\"\n",
    "            n += 1\n",
    "        else:\n",
    "            E = \"PM\"\n",
    "\n",
    "    if day != \"\":\n",
    "        day = days[(days.index(day.lower()) + n)%7]\n",
    "        day = \", \" + day.capitalize()\n",
    "\n",
    "    if n == 1:\n",
    "        d = \" (next day)\"\n",
    "    elif n > 1:\n",
    "        d = \" (\" + str(n) + \" days later)\"\n",
    "\n",
    "    new_time = str(h) + \":\" + str(m) + \" \" + E + day + d\n",
    "    return new_time"
   ]
  },
  {
   "cell_type": "code",
   "execution_count": 15,
   "metadata": {},
   "outputs": [
    {
     "data": {
      "text/plain": [
       "'6:20 AM, Monday (13 days later)'"
      ]
     },
     "execution_count": 15,
     "metadata": {},
     "output_type": "execute_result"
    }
   ],
   "source": [
    "add_time(\"6:20 PM\", \"300:00\", \"Tuesday\")"
   ]
  }
 ],
 "metadata": {
  "interpreter": {
   "hash": "f1255793069e5d988e2d53150fad8987b7b0be88154fc93b28637a447625b590"
  },
  "kernelspec": {
   "display_name": "Python 3.10.4 64-bit",
   "language": "python",
   "name": "python3"
  },
  "language_info": {
   "codemirror_mode": {
    "name": "ipython",
    "version": 3
   },
   "file_extension": ".py",
   "mimetype": "text/x-python",
   "name": "python",
   "nbconvert_exporter": "python",
   "pygments_lexer": "ipython3",
   "version": "3.10.4"
  },
  "orig_nbformat": 4
 },
 "nbformat": 4,
 "nbformat_minor": 2
}
